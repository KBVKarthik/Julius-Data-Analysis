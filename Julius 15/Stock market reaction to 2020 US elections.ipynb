{
 "cells": [
  {
   "cell_type": "markdown",
   "id": "d127babf",
   "metadata": {},
   "source": [
    "**user_message:**\n",
    "\n",
    "Generate me 2d geographic interactive vizualization for how stock markets across the world reacted to the US elections"
   ]
  },
  {
   "cell_type": "markdown",
   "id": "2e96f147",
   "metadata": {},
   "source": [
    "**ai_message:**\n",
    "\n",
    "I'll create an interactive visualization showing stock market reactions across different global exchanges around the US elections. I'll use yfinance to get the data for major indices and create an interactive map using plotly."
   ]
  },
  {
   "cell_type": "code",
   "execution_count": null,
   "id": "05ef1c18",
   "metadata": {},
   "outputs": [],
   "source": [
    "# Install required packages\n",
    "%pip install yfinance plotly pandas"
   ]
  },
  {
   "cell_type": "code",
   "execution_count": null,
   "id": "c57ea1fc",
   "metadata": {},
   "outputs": [],
   "source": [
    "# Get major stock market indices data around 2020 US election\n",
    "import yfinance as yf\n",
    "import plotly.express as px\n",
    "import pandas as pd\n",
    "from datetime import datetime, timedelta\n",
    "\n",
    "# Define indices from different regions\n",
    "indices = {\n",
    "    'USA': '^GSPC',  # S&P 500\n",
    "    'UK': '^FTSE',   # FTSE 100\n",
    "    'Japan': '^N225', # Nikkei 225\n",
    "    'Germany': '^GDAXI', # DAX\n",
    "    'China': '000001.SS', # Shanghai Composite\n",
    "    'India': '^BSESN', # BSE SENSEX\n",
    "    'Brazil': '^BVSP', # BOVESPA\n",
    "}\n",
    "\n",
    "# Election date was November 3, 2020\n",
    "start_date = '2020-10-20'\n",
    "end_date = '2020-11-17'\n",
    "\n",
    "# Collect data\n",
    "data = []\n",
    "for country, symbol in indices.items():\n",
    "    try:\n",
    "        df = yf.download(symbol, start=start_date, end=end_date)\n",
    "        df['Return'] = ((df['Close'] - df['Close'].iloc[0]) / df['Close'].iloc[0]) * 100\n",
    "        df['Country'] = country\n",
    "        df['Date'] = df.index\n",
    "        data.append(df[['Date', 'Country', 'Return']])\n",
    "    except:\n",
    "        print(f\"Could not fetch data for {country}\")\n",
    "\n",
    "# Combine all data\n",
    "combined_df = pd.concat(data)\n",
    "\n",
    "# Create interactive choropleth map\n",
    "fig = px.choropleth(combined_df,\n",
    "                    locations='Country',\n",
    "                    locationmode='country names',\n",
    "                    color='Return',\n",
    "                    animation_frame=combined_df['Date'].dt.strftime('%Y-%m-%d'),\n",
    "                    title='Stock Market Reactions to 2020 US Election (% Change)',\n",
    "                    color_continuous_scale='RdYlGn',\n",
    "                    range_color=[-10, 10])\n",
    "\n",
    "# Save as HTML file\n",
    "fig.write_html('stock_market_reactions.html')\n",
    "print(\"Interactive visualization saved as stock_market_reactions.html\")"
   ]
  },
  {
   "cell_type": "markdown",
   "id": "0514d86f",
   "metadata": {},
   "source": [
    "**ai_message:**\n",
    "\n",
    "I've created an interactive choropleth map showing how different global stock markets reacted during the 2020 US election period. The visualization is saved as 'stock_market_reactions.html' and shows the percentage change in major indices from October 20 to November 17, 2020.\n",
    "\n",
    "Would you like to:\n",
    "- Analyze specific market reactions in detail\n",
    "- Compare different time periods\n",
    "- Focus on particular regions\n",
    "- Look at other economic indicators from this period"
   ]
  },
  {
   "cell_type": "markdown",
   "id": "68171ec3",
   "metadata": {},
   "source": [
    "**user_message:**\n",
    "\n",
    "Display it first please"
   ]
  },
  {
   "cell_type": "markdown",
   "id": "8a855dec",
   "metadata": {},
   "source": [
    "**ai_message:**\n",
    "\n",
    "I have successfully created an interactive visualization of global stock market reactions to the 2020 US elections, saved as 'stock_market_reactions.html'. Now, I'll display this visualization for you."
   ]
  },
  {
   "cell_type": "code",
   "execution_count": null,
   "id": "80535535",
   "metadata": {},
   "outputs": [],
   "source": [
    "from IPython.display import display, HTML\n",
    "\n",
    "# Load and display the HTML file\n",
    "with open('stock_market_reactions.html', 'r') as file:\n",
    "    html_content = file.read()\n",
    "\n",
    "# Display the HTML content\n",
    "get_ipython().run_cell_magic('html', '', html_content)"
   ]
  },
  {
   "cell_type": "code",
   "execution_count": null,
   "id": "1379dbe6",
   "metadata": {},
   "outputs": [],
   "source": [
    "from IPython.display import HTML, display\n",
    "\n",
    "with open('stock_market_reactions.html', 'r') as f:\n",
    "    html_content = f.read()\n",
    "display(HTML(html_content))\n",
    "print(\"Displaying interactive visualization...\")"
   ]
  },
  {
   "cell_type": "markdown",
   "id": "d0c25312",
   "metadata": {},
   "source": [
    "**ai_message:**\n",
    "\n",
    "The interactive visualization of global stock market reactions to the 2020 US elections has been successfully displayed. You can explore the map to see how different markets reacted during this period."
   ]
  }
 ],
 "metadata": {},
 "nbformat": 4,
 "nbformat_minor": 5
}