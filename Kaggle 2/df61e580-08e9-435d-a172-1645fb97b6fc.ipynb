{
 "cells": [
  {
   "cell_type": "markdown",
   "id": "76ecd120",
   "metadata": {},
   "source": [
    "**user_message:**\n",
    "\n",
    "I uploaded the file: `Esophageal_Dataset.csv`\n",
    "\n",
    "Perform deep and exploratory data analysis on this and generate and show visualizations"
   ]
  },
  {
   "cell_type": "markdown",
   "id": "f708141b",
   "metadata": {},
   "source": [
    "**ai_message:**\n",
    "\n",
    "I'll help you analyze the Esophageal Dataset with various visualizations and insights. Let's start by examining the data and creating some informative visualizations."
   ]
  },
  {
   "cell_type": "code",
   "execution_count": null,
   "id": "586db867",
   "metadata": {},
   "outputs": [],
   "source": [
    "# Import necessary libraries\n",
    "import pandas as pd\n",
    "import numpy as np\n",
    "import seaborn as sns\n",
    "import matplotlib.pyplot as plt\n",
    "from scipy import stats\n",
    "\n",
    "# Read the dataset\n",
    "df = pd.read_csv('Esophageal_Dataset.csv')\n",
    "\n",
    "# Display basic information about the dataset\n",
    "print(\"Dataset Shape:\", df.shape)\n",
    "print(\"\\nFirst few rows:\")\n",
    "print(df.head())"
   ]
  },
  {
   "cell_type": "markdown",
   "id": "d3049c1e",
   "metadata": {},
   "source": [
    "**ai_message:**\n",
    "\n",
    "The dataset has 3,985 rows and 85 columns. Here are the first few rows of the dataset:\n",
    "\n",
    "{outputs_dict['1c958c0c']}\n",
    "\n",
    "Next, let's perform some exploratory data analysis and generate visualizations to better understand the data. We'll start by examining the distribution of some key variables."
   ]
  },
  {
   "cell_type": "code",
   "execution_count": null,
   "id": "d836b806",
   "metadata": {},
   "outputs": [],
   "source": [
    "# Visualize the distribution of age at initial pathologic diagnosis\n",
    "plt.figure(figsize=(10, 6))\n",
    "sns.histplot(df['primary_pathology_age_at_initial_pathologic_diagnosis'].dropna(), bins=30, kde=True)\n",
    "plt.title('Distribution of Age at Initial Pathologic Diagnosis')\n",
    "plt.xlabel('Age')\n",
    "plt.ylabel('Frequency')\n",
    "plt.grid(True)\n",
    "plt.show()"
   ]
  },
  {
   "cell_type": "code",
   "execution_count": null,
   "id": "b83a4d40",
   "metadata": {},
   "outputs": [],
   "source": [
    "# Gender distribution\n",
    "plt.figure(figsize=(8, 6))\n",
    "df['gender'].value_counts().plot(kind='bar')\n",
    "plt.title('Gender Distribution')\n",
    "plt.xlabel('Gender')\n",
    "plt.ylabel('Count')\n",
    "plt.grid(True)\n",
    "plt.show()\n",
    "\n",
    "# Calculate gender percentages\n",
    "gender_percentages = (df['gender'].value_counts() / len(df) * 100).round(2)\n",
    "print(\"\\nGender Distribution Percentages:\")\n",
    "print(gender_percentages)"
   ]
  },
  {
   "cell_type": "markdown",
   "id": "c1aaed1d",
   "metadata": {},
   "source": [
    "**ai_message:**\n",
    "\n",
    "The visualizations show the distribution of age at initial pathologic diagnosis and gender distribution in the dataset. The gender distribution indicates that 84.54% of the patients are male and 15.46% are female.\n",
    "\n",
    "{image_urls_dict['6c741182']}\n",
    "\n",
    "{image_urls_dict['b66e13fa']}\n",
    "\n",
    "Next, I'll explore more variables and relationships within the dataset."
   ]
  },
  {
   "cell_type": "code",
   "execution_count": null,
   "id": "5ae90092",
   "metadata": {},
   "outputs": [],
   "source": [
    "# Explore the relationship between smoking history and cancer status\n",
    "plt.figure(figsize=(12, 6))\n",
    "sns.countplot(data=df, x='tobacco_smoking_history', hue='person_neoplasm_cancer_status')\n",
    "plt.title('Smoking History vs Cancer Status')\n",
    "plt.xlabel('Tobacco Smoking History')\n",
    "plt.ylabel('Count')\n",
    "plt.xticks(rotation=45)\n",
    "plt.grid(True)\n",
    "plt.show()"
   ]
  },
  {
   "cell_type": "markdown",
   "id": "d5c504df",
   "metadata": {},
   "source": [
    "**ai_message:**\n",
    "\n",
    "The visualization shows the relationship between tobacco smoking history and cancer status, helping us understand how smoking might correlate with cancer presence in the dataset.\n",
    "\n",
    "{image_urls_dict['1459f5f7']}\n",
    "\n",
    "Next, I'll explore additional variables and relationships to gain further insights."
   ]
  },
  {
   "cell_type": "code",
   "execution_count": null,
   "id": "8ba862b0",
   "metadata": {},
   "outputs": [],
   "source": [
    "# Explore the relationship between alcohol consumption and cancer status\n",
    "plt.figure(figsize=(12, 6))\n",
    "sns.countplot(data=df, x='alcohol_history_documented', hue='person_neoplasm_cancer_status')\n",
    "plt.title('Alcohol Consumption History vs Cancer Status')\n",
    "plt.xlabel('Alcohol History Documented')\n",
    "plt.ylabel('Count')\n",
    "plt.xticks(rotation=45)\n",
    "plt.grid(True)\n",
    "plt.show()"
   ]
  },
  {
   "cell_type": "markdown",
   "id": "4496550e",
   "metadata": {},
   "source": [
    "**ai_message:**\n",
    "\n",
    "The visualization illustrates the relationship between alcohol consumption history and cancer status, providing insights into how alcohol history might correlate with cancer presence in the dataset.\n",
    "\n",
    "{image_urls_dict['b8c64f23']}\n",
    "\n",
    "Next, I'll continue exploring other variables and relationships to uncover more insights."
   ]
  },
  {
   "cell_type": "markdown",
   "id": "c7b5e85c",
   "metadata": {},
   "source": [
    "**user_message:**\n",
    "\n",
    "Draw inferences and make predictions and generate visualizations for the same"
   ]
  },
  {
   "cell_type": "markdown",
   "id": "ccc186c3",
   "metadata": {},
   "source": [
    "**ai_message:**\n",
    "\n",
    "To draw inferences and make predictions, I'll first identify key variables that might influence cancer status, such as age, smoking history, and alcohol consumption. Then, I'll use statistical methods and machine learning models to predict cancer status based on these variables, visualizing the results to provide insights. Let's proceed with this approach."
   ]
  },
  {
   "cell_type": "code",
   "execution_count": null,
   "id": "4d96c2da",
   "metadata": {},
   "outputs": [],
   "source": [
    "# Import necessary libraries for machine learning\n",
    "from sklearn.model_selection import train_test_split\n",
    "from sklearn.ensemble import RandomForestClassifier\n",
    "from sklearn.metrics import classification_report, confusion_matrix\n",
    "\n",
    "# Prepare the data for modeling\n",
    "# Select relevant features and target variable\n",
    "df_model = df[['primary_pathology_age_at_initial_pathologic_diagnosis', 'tobacco_smoking_history', 'alcohol_history_documented', 'person_neoplasm_cancer_status']].dropna()\n",
    "\n",
    "# Convert categorical variables to numerical\n",
    "categorical_cols = ['tobacco_smoking_history', 'alcohol_history_documented', 'person_neoplasm_cancer_status']\n",
    "df_model = pd.get_dummies(df_model, columns=categorical_cols, drop_first=True)\n",
    "\n",
    "# Define features and target variable\n",
    "X = df_model.drop('person_neoplasm_cancer_status_WITH TUMOR', axis=1)\n",
    "y = df_model['person_neoplasm_cancer_status_WITH TUMOR']\n",
    "\n",
    "# Split the data into training and testing sets\n",
    "X_train, X_test, y_train, y_test = train_test_split(X, y, test_size=0.3, random_state=42)\n",
    "\n",
    "# Train a Random Forest Classifier\n",
    "rf_model = RandomForestClassifier(random_state=42)\n",
    "rf_model.fit(X_train, y_train)\n",
    "\n",
    "# Make predictions\n",
    "predictions = rf_model.predict(X_test)\n",
    "\n",
    "# Evaluate the model\n",
    "conf_matrix = confusion_matrix(y_test, predictions)\n",
    "class_report = classification_report(y_test, predictions)\n",
    "\n",
    "print(\"Confusion Matrix:\")\n",
    "print(conf_matrix)\n",
    "print(\"\\nClassification Report:\")\n",
    "print(class_report)"
   ]
  },
  {
   "cell_type": "code",
   "execution_count": null,
   "id": "39642648",
   "metadata": {},
   "outputs": [],
   "source": [
    "# Feature importance visualization\n",
    "feature_importance = pd.DataFrame({\n",
    "    'feature': X.columns,\n",
    "    'importance': rf_model.feature_importances_\n",
    "})\n",
    "feature_importance = feature_importance.sort_values('importance', ascending=False)\n",
    "\n",
    "plt.figure(figsize=(12, 6))\n",
    "sns.barplot(data=feature_importance, x='importance', y='feature')\n",
    "plt.title('Feature Importance in Predicting Cancer Status')\n",
    "plt.xlabel('Importance Score')\n",
    "plt.grid(True)\n",
    "plt.show()"
   ]
  },
  {
   "cell_type": "code",
   "execution_count": null,
   "id": "783a56dc",
   "metadata": {},
   "outputs": [],
   "source": [
    "# Analyze survival patterns\n",
    "# Create a survival indicator\n",
    "df['deceased'] = df['vital_status'].map({'Dead': 1, 'Alive': 0})\n",
    "\n",
    "# Create age groups\n",
    "df['age_group'] = pd.qcut(df['primary_pathology_age_at_initial_pathologic_diagnosis'].fillna(df['primary_pathology_age_at_initial_pathologic_diagnosis'].mean()), \n",
    "                         q=4, labels=['Young', 'Young Adult', 'Adult', 'Senior'])\n",
    "\n",
    "# Survival analysis visualization\n",
    "plt.figure(figsize=(12, 6))\n",
    "sns.boxplot(data=df, x='age_group', y='days_to_death')\n",
    "plt.title('Survival Duration by Age Group')\n",
    "plt.xlabel('Age Group')\n",
    "plt.ylabel('Days to Death')\n",
    "plt.grid(True)\n",
    "plt.show()"
   ]
  },
  {
   "cell_type": "markdown",
   "id": "163e2604",
   "metadata": {},
   "source": [
    "**ai_message:**\n",
    "\n",
    "The analysis shows that the Random Forest model predicts cancer status with an accuracy of 87%, highlighting the importance of age, smoking, and alcohol history. The feature importance plot and survival analysis by age group provide insights into the factors influencing cancer status and survival duration.\n",
    "\n",
    "{image_urls_dict['dc931111']}\n",
    "\n",
    "{image_urls_dict['01ac142e']}"
   ]
  }
 ],
 "metadata": {},
 "nbformat": 4,
 "nbformat_minor": 5
}