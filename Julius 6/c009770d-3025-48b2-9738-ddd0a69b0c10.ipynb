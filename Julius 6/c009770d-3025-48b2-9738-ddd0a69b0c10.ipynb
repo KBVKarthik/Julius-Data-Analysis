{
 "cells": [
  {
   "cell_type": "markdown",
   "id": "977f4be9",
   "metadata": {},
   "source": [
    "**user_message:**\n",
    "\n",
    "I uploaded the file: `goibibo_flights_data.csv`\n",
    "\n",
    "Perform deep and big data analysis on this"
   ]
  },
  {
   "cell_type": "markdown",
   "id": "e567fcda",
   "metadata": {},
   "source": [
    "**ai_message:**\n",
    "\n",
    "I'll help analyze the flight data comprehensively. Let's start by examining the data and then perform various analyses."
   ]
  },
  {
   "cell_type": "code",
   "execution_count": null,
   "id": "fd925f27",
   "metadata": {},
   "outputs": [],
   "source": [
    "# Initial data loading and overview\n",
    "import pandas as pd\n",
    "import numpy as np\n",
    "import seaborn as sns\n",
    "import matplotlib.pyplot as plt\n",
    "\n",
    "# Read the data\n",
    "df = pd.read_csv('goibibo_flights_data.csv')\n",
    "\n",
    "# Display basic information\n",
    "print(\"Dataset Overview:\")\n",
    "print(\"\\nDataset Shape:\", df.shape)\n",
    "print(\"\\nColumns:\", list(df.columns))\n",
    "print(\"\\nSample Data:\")\n",
    "print(df.head())\n",
    "print(\"\\nData Info:\")\n",
    "print(df.info())"
   ]
  },
  {
   "cell_type": "markdown",
   "id": "213bfa1f",
   "metadata": {},
   "source": [
    "**ai_message:**\n",
    "\n",
    "{outputs_dict['132cfab4']}\n",
    "{outputs_dict['22aac7fe']}{outputs_dict['4667124b']}\n",
    "{outputs_dict['db471462']}{outputs_dict['ac6f522d']}\n",
    "{outputs_dict['9c59a08d']}{outputs_dict['c831ffb1']}\n",
    "{outputs_dict['4f7804ae']}{outputs_dict['dab15eef']}\n",
    "\n",
    "The dataset contains 300,261 entries with 13 columns. Some columns have missing values, particularly the last two unnamed columns. Let's proceed with a deeper analysis, focusing on key aspects such as price distribution, flight duration, and any patterns in the data. \n",
    "\n",
    "I'll start by cleaning the data and then perform some exploratory data analysis."
   ]
  },
  {
   "cell_type": "code",
   "execution_count": null,
   "id": "ae78bc0d",
   "metadata": {},
   "outputs": [],
   "source": [
    "# Cleaning the data by removing unnecessary columns and handling missing values\n",
    "# Dropping the unnamed columns as they seem to be irrelevant\n",
    "\n",
    "df_cleaned = df.drop(columns=['Unnamed: 11', 'Unnamed: 12'])\n",
    "\n",
    "# Checking for missing values in the remaining columns\n",
    "df_cleaned.isnull().sum()"
   ]
  },
  {
   "cell_type": "code",
   "execution_count": null,
   "id": "2f067470",
   "metadata": {},
   "outputs": [],
   "source": [
    "# Convert price to numeric, removing any currency symbols or commas\n",
    "df_cleaned['price'] = df_cleaned['price'].str.replace(',', '').astype(float)\n",
    "\n",
    "# Convert duration to minutes for better analysis\n",
    "def duration_to_minutes(duration):\n",
    "    parts = duration.split('h ')\n",
    "    hours = int(parts[0])\n",
    "    minutes = int(parts[1].replace('m', ''))\n",
    "    return hours * 60 + minutes\n",
    "\n",
    "df_cleaned['duration_minutes'] = df_cleaned['duration'].apply(duration_to_minutes)\n",
    "\n",
    "# Analyze price distribution\n",
    "plt.figure(figsize=(10, 6))\n",
    "sns.histplot(data=df_cleaned, x='price', bins=50)\n",
    "plt.title('Distribution of Flight Prices')\n",
    "plt.xlabel('Price (INR)')\n",
    "plt.ylabel('Count')\n",
    "plt.show()\n",
    "\n",
    "# Calculate basic statistics for prices\n",
    "price_stats = df_cleaned['price'].describe()\n",
    "print(\"\\nPrice Statistics (in INR):\")\n",
    "print(price_stats)"
   ]
  },
  {
   "cell_type": "code",
   "execution_count": null,
   "id": "2dbc2308",
   "metadata": {},
   "outputs": [],
   "source": [
    "# Let's examine the duration format\n",
    "print(\"Sample duration values:\")\n",
    "print(df_cleaned['duration'].head(10).unique())"
   ]
  },
  {
   "cell_type": "code",
   "execution_count": null,
   "id": "e0707fc0",
   "metadata": {},
   "outputs": [],
   "source": [
    "# Modified duration conversion function\n",
    "def duration_to_minutes(duration):\n",
    "    if 'h' not in duration:\n",
    "        return None\n",
    "    parts = duration.split('h ')\n",
    "    try:\n",
    "        hours = float(parts[0])\n",
    "        minutes = int(parts[1].replace('m', ''))\n",
    "        return int(hours * 60 + minutes)\n",
    "    except:\n",
    "        return None\n",
    "\n",
    "# Convert duration and analyze flight data\n",
    "df_cleaned['duration_minutes'] = df_cleaned['duration'].apply(duration_to_minutes)\n",
    "\n",
    "# Analyze airlines market share\n",
    "airline_share = df_cleaned['airline'].value_counts()\n",
    "plt.figure(figsize=(12, 6))\n",
    "airline_share.plot(kind='bar')\n",
    "plt.title('Market Share by Airline')\n",
    "plt.xlabel('Airline')\n",
    "plt.ylabel('Number of Flights')\n",
    "plt.xticks(rotation=45)\n",
    "plt.tight_layout()\n",
    "plt.show()\n",
    "\n",
    "# Calculate average prices by airline\n",
    "avg_price_by_airline = df_cleaned.groupby('airline')['price'].mean().sort_values(ascending=False)\n",
    "print(\"\\nAverage Price by Airline (INR):\")\n",
    "print(avg_price_by_airline)\n",
    "\n",
    "# Popular routes analysis\n",
    "routes = df_cleaned.groupby(['from', 'to']).size().sort_values(ascending=False).head(10)\n",
    "print(\"\\nTop 10 Most Popular Routes:\")\n",
    "print(routes)\n",
    "\n",
    "# Basic statistics\n",
    "print(\"\\nOverall Flight Statistics:\")\n",
    "print(\"Total number of flights:\", len(df_cleaned))\n",
    "print(\"Average flight price:\", round(df_cleaned['price'].mean(), 2), \"INR\")\n",
    "print(\"Average flight duration:\", round(df_cleaned['duration_minutes'].mean(), 2), \"minutes\")\n",
    "print(\"Number of unique routes:\", len(df_cleaned.groupby(['from', 'to'])))"
   ]
  },
  {
   "cell_type": "markdown",
   "id": "2941a7f6",
   "metadata": {},
   "source": [
    "**ai_message:**\n",
    "\n",
    "The analysis was successful after adjusting the duration conversion function to handle potential formatting issues. Here's the market share by airline and other key statistics:\n",
    "\n",
    "{image_urls_dict['838f00b3']}\n",
    "\n",
    "{outputs_dict['cab3e3fe']}{outputs_dict['f988ca26']}\n",
    "{outputs_dict['ac3b4e74']}{outputs_dict['f23b3201']}\n",
    "{outputs_dict['df7cc525']}{outputs_dict['960c4df5']}{outputs_dict['a98321ed']}\n",
    "{outputs_dict['3c77f264']}{outputs_dict['34dfe4c0']}{outputs_dict['89561919']}\n",
    "{outputs_dict['c0923544']}{outputs_dict['1327a173']}{outputs_dict['5caacde0']}\n",
    "{outputs_dict['4b781782']}{outputs_dict['e767deb7']}\n",
    "\n",
    "The analysis shows the average price by airline, the top 10 most popular routes, and overall flight statistics. Let me know if you need further analysis or insights!"
   ]
  },
  {
   "cell_type": "markdown",
   "id": "5c9488a4",
   "metadata": {},
   "source": [
    "**user_message:**\n",
    "\n",
    "Now draw inferences and visualizations from this"
   ]
  },
  {
   "cell_type": "markdown",
   "id": "86c9b932",
   "metadata": {},
   "source": [
    "**ai_message:**\n",
    "\n",
    "The data has been successfully cleaned and analyzed, revealing insights into airline market share, average prices, and popular routes. Now, I'll create visualizations to further illustrate these findings and draw inferences from the data. Let's proceed with visualizing the average price by airline and the top routes."
   ]
  },
  {
   "cell_type": "code",
   "execution_count": null,
   "id": "ef11cd9e",
   "metadata": {},
   "outputs": [],
   "source": [
    "# Visualizing average price by airline\n",
    "plt.figure(figsize=(12, 6))\n",
    "avg_price_by_airline.plot(kind='bar', color='skyblue')\n",
    "plt.title('Average Flight Price by Airline')\n",
    "plt.xlabel('Airline')\n",
    "plt.ylabel('Average Price (INR)')\n",
    "plt.xticks(rotation=45)\n",
    "plt.tight_layout()\n",
    "plt.show()\n",
    "\n",
    "# Visualizing top 10 most popular routes\n",
    "plt.figure(figsize=(12, 6))\n",
    "routes.plot(kind='bar', color='lightgreen')\n",
    "plt.title('Top 10 Most Popular Routes')\n",
    "plt.xlabel('Route')\n",
    "plt.ylabel('Number of Flights')\n",
    "plt.xticks(rotation=45)\n",
    "plt.tight_layout()\n",
    "plt.show()"
   ]
  },
  {
   "cell_type": "markdown",
   "id": "829bb68c",
   "metadata": {},
   "source": [
    "**ai_message:**\n",
    "\n",
    "The visualizations were generated successfully, illustrating the average flight price by airline and the top 10 most popular routes. These charts will help in understanding the pricing strategies of different airlines and the most traveled routes. Let's take a look at the visualizations:\n",
    "\n",
    "{image_urls_dict['765fd917']}\n",
    "\n",
    "{image_urls_dict['a65a689d']}"
   ]
  },
  {
   "cell_type": "markdown",
   "id": "64d94126",
   "metadata": {},
   "source": [
    "**user_message:**\n",
    "\n",
    "I want you to study and predict trends"
   ]
  },
  {
   "cell_type": "markdown",
   "id": "57d8c005",
   "metadata": {},
   "source": [
    "**ai_message:**\n",
    "\n",
    "To predict trends, I'll analyze historical data patterns, focusing on price fluctuations, route popularity, and airline market share over time, using time series analysis and visualization techniques to identify potential future trends. Let's proceed with this analysis."
   ]
  },
  {
   "cell_type": "code",
   "execution_count": null,
   "id": "3e8acb61",
   "metadata": {},
   "outputs": [],
   "source": [
    "# Convert 'flight date' to datetime for time series analysis\n",
    "df_cleaned['flight date'] = pd.to_datetime(df_cleaned['flight date'], format='%d-%m-%Y')\n",
    "\n",
    "# Group data by month and calculate average price and number of flights\n",
    "monthly_data = df_cleaned.resample('M', on='flight date').agg({'price': 'mean', 'flight_num': 'count'})\n",
    "\n",
    "# Plotting trends over time\n",
    "fig, ax1 = plt.subplots(figsize=(14, 7))\n",
    "\n",
    "# Plot average price trend\n",
    "ax1.set_title('Trends in Average Flight Price and Number of Flights Over Time')\n",
    "ax1.set_xlabel('Date')\n",
    "ax1.set_ylabel('Average Price (INR)', color='tab:blue')\n",
    "ax1.plot(monthly_data.index, monthly_data['price'], color='tab:blue', label='Average Price')\n",
    "ax1.tick_params(axis='y', labelcolor='tab:blue')\n",
    "\n",
    "# Create a second y-axis for the number of flights\n",
    "ax2 = ax1.twinx()\n",
    "ax2.set_ylabel('Number of Flights', color='tab:green')\n",
    "ax2.plot(monthly_data.index, monthly_data['flight_num'], color='tab:green', label='Number of Flights')\n",
    "ax2.tick_params(axis='y', labelcolor='tab:green')\n",
    "\n",
    "fig.tight_layout()\n",
    "plt.show()"
   ]
  },
  {
   "cell_type": "code",
   "execution_count": null,
   "id": "a82d7f47",
   "metadata": {},
   "outputs": [],
   "source": [
    "# Analyze price variations by time of day\n",
    "df_cleaned['dep_time'] = pd.to_datetime(df_cleaned['dep_time'])\n",
    "df_cleaned['hour'] = df_cleaned['dep_time'].dt.hour\n",
    "\n",
    "# Calculate average price by hour\n",
    "hourly_prices = df_cleaned.groupby('hour')['price'].mean()\n",
    "\n",
    "plt.figure(figsize=(12, 6))\n",
    "hourly_prices.plot(kind='line', marker='o')\n",
    "plt.title('Average Flight Prices Throughout the Day')\n",
    "plt.xlabel('Hour of Day (24-hour format)')\n",
    "plt.ylabel('Average Price (INR)')\n",
    "plt.grid(True)\n",
    "plt.show()\n",
    "\n",
    "# Analyze price variations by stops\n",
    "plt.figure(figsize=(10, 6))\n",
    "sns.boxplot(data=df_cleaned, x='stops', y='price')\n",
    "plt.title('Price Distribution by Number of Stops')\n",
    "plt.xlabel('Number of Stops')\n",
    "plt.ylabel('Price (INR)')\n",
    "plt.xticks(rotation=45)\n",
    "plt.show()\n",
    "\n",
    "# Calculate correlation between duration and price\n",
    "correlation = df_cleaned['price'].corr(df_cleaned['duration_minutes'])\n",
    "print(\"\\nCorrelation between flight duration and price:\", round(correlation, 3))\n",
    "\n",
    "# Calculate average prices by route type\n",
    "route_prices = df_cleaned.groupby(['from', 'to'])['price'].agg(['mean', 'std', 'count']).sort_values('count', ascending=False)\n",
    "print(\"\\nPrice analysis for top routes:\")\n",
    "print(route_prices.head())"
   ]
  },
  {
   "cell_type": "markdown",
   "id": "15e22696",
   "metadata": {},
   "source": [
    "**ai_message:**\n",
    "\n",
    "The analysis and visualizations were successful, showing trends in average flight prices and the number of flights over time, as well as variations in prices by time of day and number of stops. The correlation between flight duration and price is also calculated. Let's review the visualizations and findings:\n",
    "\n",
    "{image_urls_dict['6fef88eb']}\n",
    "\n",
    "{image_urls_dict['851396f1']}\n",
    "\n",
    "{image_urls_dict['8237a52b']}\n",
    "\n",
    "{outputs_dict['f98edcd6']}{outputs_dict['e179370c']}\n",
    "{outputs_dict['9937ca34']}{outputs_dict['d0c77a1b']}\n",
    "\n",
    "These insights can help in understanding pricing strategies, peak travel times, and the impact of stops on flight prices. Let me know if you need further analysis or predictions!"
   ]
  }
 ],
 "metadata": {},
 "nbformat": 4,
 "nbformat_minor": 5
}