{
 "cells": [
  {
   "cell_type": "markdown",
   "id": "794de3f2",
   "metadata": {},
   "source": [
    "**user_message:**\n",
    "\n",
    "Take data from the net, perform financial analysis of the company nvidia and generate me 3d visualizations which demonstrate future predictions for the company"
   ]
  },
  {
   "cell_type": "markdown",
   "id": "1cd661ed",
   "metadata": {},
   "source": [
    "**ai_message:**\n",
    "\n",
    "I'll help you analyze NVIDIA's financial data and create visualizations. Let me break this down into steps:\n",
    "\n",
    "1. First, let's gather recent information about NVIDIA"
   ]
  },
  {
   "cell_type": "markdown",
   "id": "71d4e5ec",
   "metadata": {},
   "source": [
    "**ai_message:**\n",
    "\n",
    "Here's the result of search:\n",
    "Nvidia's financial performance for fiscal 2024 has been remarkable, with significant revenue and earnings growth driven primarily by its dominance in the AI chips market. The company reported a revenue of approximately $30 billion for the second quarter of fiscal 2024, which more than doubled from the previous year, and it raised its revenue guidance for the following quarter to $32.5 billion, exceeding analyst expectations [cit:1][cit:5]. \n",
    "\n",
    "Earnings per share (EPS) for fiscal 2024 finished at $1.19, with projections suggesting it could reach $4.84 per share by fiscal 2027, indicating a compound annual growth rate of nearly 60% over the next three years [cit:2]. Nvidia's market share in the AI chip sector is substantial, with estimates suggesting it holds around 95% of the market for AI graphics processing units (GPUs) [cit:2]. This strong positioning has allowed Nvidia to charge significantly higher prices for its products compared to competitors, further enhancing its profitability [cit:2]. \n",
    "\n",
    "Overall, Nvidia's impressive growth in revenue and earnings is closely tied to the increasing demand for AI technologies and its leading market share in AI chips."
   ]
  },
  {
   "cell_type": "markdown",
   "id": "0208c3fc",
   "metadata": {},
   "source": [
    "**ai_message:**\n",
    "\n",
    "Let me fetch NVIDIA's stock data and create 3D visualizations of their financial metrics and future predictions."
   ]
  },
  {
   "cell_type": "code",
   "execution_count": null,
   "id": "391876d3",
   "metadata": {},
   "outputs": [],
   "source": [
    "# Install required packages\n",
    "%pip install yfinance==0.1.70 plotly numpy scikit-learn"
   ]
  },
  {
   "cell_type": "code",
   "execution_count": null,
   "id": "21e05c92",
   "metadata": {},
   "outputs": [],
   "source": [
    "import yfinance as yf\n",
    "import plotly.graph_objects as go\n",
    "import numpy as np\n",
    "from sklearn.linear_model import LinearRegression\n",
    "from datetime import datetime, timedelta\n",
    "\n",
    "# Get NVIDIA stock data\n",
    "nvda = yf.Ticker(\"NVDA\")\n",
    "hist = nvda.history(period=\"2y\")\n",
    "\n",
    "# Prepare data for prediction\n",
    "X = np.array(range(len(hist))).reshape(-1, 1)\n",
    "y = hist['Close'].values\n",
    "\n",
    "# Create and fit the model\n",
    "model = LinearRegression()\n",
    "model.fit(X, y)\n",
    "\n",
    "# Generate future dates\n",
    "future_days = 180\n",
    "future_x = np.array(range(len(X), len(X) + future_days)).reshape(-1, 1)\n",
    "future_predictions = model.predict(future_x)\n",
    "\n",
    "# Create 3D visualization\n",
    "dates = hist.index.tolist() + [(hist.index[-1] + timedelta(days=x)) for x in range(1, future_days + 1)]\n",
    "z_data = np.array([hist['Volume'].values.tolist() + [None] * future_days])\n",
    "\n",
    "# Create the 3D surface plot\n",
    "fig = go.Figure(data=[\n",
    "    go.Surface(z=z_data, x=dates, y=[0], colorscale='Viridis', showscale=False),\n",
    "    go.Scatter3d(\n",
    "        x=dates[:len(hist)],\n",
    "        y=[1]*len(hist),\n",
    "        z=hist['Close'].values,\n",
    "        mode='lines',\n",
    "        line=dict(color='blue', width=2),\n",
    "        name='Historical Price'\n",
    "    ),\n",
    "    go.Scatter3d(\n",
    "        x=dates[len(hist):],\n",
    "        y=[1]*future_days,\n",
    "        z=future_predictions,\n",
    "        mode='lines',\n",
    "        line=dict(color='red', width=2),\n",
    "        name='Predicted Price'\n",
    "    )\n",
    "])\n",
    "\n",
    "fig.update_layout(\n",
    "    title='NVIDIA Stock Analysis - Price and Volume with Future Predictions',\n",
    "    scene=dict(\n",
    "        xaxis_title='Date',\n",
    "        yaxis_title='',\n",
    "        zaxis_title='Price/Volume',\n",
    "        camera=dict(\n",
    "            eye=dict(x=1.5, y=1.5, z=1.5)\n",
    "        )\n",
    "    ),\n",
    "    width=1000,\n",
    "    height=800\n",
    ")\n",
    "\n",
    "# Save the plot as HTML\n",
    "fig.write_html('nvidia_3d_prediction.html')"
   ]
  },
  {
   "cell_type": "markdown",
   "id": "b9c0f11b",
   "metadata": {},
   "source": [
    "**ai_message:**\n",
    "\n",
    "\n",
    "\n",
    "I've created a 3D visualization that combines historical data and future predictions for NVIDIA stock. The visualization has been saved as 'nvidia_3d_prediction.html' and includes:\n",
    "\n",
    "- Blue line: Historical stock price data for the past 2 years\n",
    "- Red line: Predicted price trajectory for the next 180 days\n",
    "- Surface plot: Trading volume represented as a heat map\n",
    "\n",
    "Let's also create another visualization focusing on key financial metrics:"
   ]
  },
  {
   "cell_type": "code",
   "execution_count": null,
   "id": "e0dd02e0",
   "metadata": {},
   "outputs": [],
   "source": [
    "import plotly.graph_objects as go\n",
    "from plotly.subplots import make_subplots\n",
    "\n",
    "# Get quarterly financials\n",
    "quarterly_financials = nvda.quarterly_financials\n",
    "quarterly_balance_sheet = nvda.quarterly_balance_sheet\n",
    "\n",
    "# Create figure with secondary y-axis\n",
    "fig = make_subplots(rows=2, cols=1, \n",
    "                   subplot_titles=('Revenue and Net Income', 'Assets and Liabilities'),\n",
    "                   specs=[[{\"secondary_y\": True}],\n",
    "                         [{\"secondary_y\": True}]])\n",
    "\n",
    "# Add traces for revenue and net income\n",
    "fig.add_trace(\n",
    "    go.Scatter(x=quarterly_financials.columns, y=quarterly_financials.loc['Total Revenue'],\n",
    "               name=\"Revenue\", mode='lines+markers'),\n",
    "    row=1, col=1\n",
    ")\n",
    "\n",
    "fig.add_trace(\n",
    "    go.Scatter(x=quarterly_financials.columns, y=quarterly_financials.loc['Net Income'],\n",
    "               name=\"Net Income\", mode='lines+markers'),\n",
    "    row=1, col=1, secondary_y=True\n",
    ")\n",
    "\n",
    "# Add traces for assets and liabilities\n",
    "fig.add_trace(\n",
    "    go.Scatter(x=quarterly_balance_sheet.columns, \n",
    "               y=quarterly_balance_sheet.loc['Total Assets'],\n",
    "               name=\"Total Assets\", mode='lines+markers'),\n",
    "    row=2, col=1\n",
    ")\n",
    "\n",
    "fig.add_trace(\n",
    "    go.Scatter(x=quarterly_balance_sheet.columns,\n",
    "               y=quarterly_balance_sheet.loc['Total Liabilities Net Minority Interest'],\n",
    "               name=\"Total Liabilities\", mode='lines+markers'),\n",
    "    row=2, col=1, secondary_y=True\n",
    ")\n",
    "\n",
    "# Update layout\n",
    "fig.update_layout(\n",
    "    title_text=\"NVIDIA Financial Performance Analysis\",\n",
    "    height=1000,\n",
    "    showlegend=True\n",
    ")\n",
    "\n",
    "# Update axes labels\n",
    "fig.update_yaxes(title_text=\"Revenue (USD)\", row=1, col=1)\n",
    "fig.update_yaxes(title_text=\"Net Income (USD)\", row=1, col=1, secondary_y=True)\n",
    "fig.update_yaxes(title_text=\"Total Assets (USD)\", row=2, col=1)\n",
    "fig.update_yaxes(title_text=\"Total Liabilities (USD)\", row=2, col=1, secondary_y=True)\n",
    "\n",
    "# Save the plot\n",
    "fig.write_html('nvidia_financial_metrics.html')"
   ]
  },
  {
   "cell_type": "markdown",
   "id": "b50234c0",
   "metadata": {},
   "source": [
    "**ai_message:**\n",
    "\n",
    "The error occurred because the key 'Total Revenue' was not found in the quarterly financials dataframe. I will inspect the dataframe to identify the correct column names and adjust the code accordingly."
   ]
  },
  {
   "cell_type": "code",
   "execution_count": null,
   "id": "d2aac0ae",
   "metadata": {},
   "outputs": [],
   "source": [
    "# Inspect the quarterly financials and balance sheet to identify correct column names\n",
    "print(quarterly_financials.head())\n",
    "print(quarterly_balance_sheet.head())"
   ]
  },
  {
   "cell_type": "markdown",
   "id": "a795d3a4",
   "metadata": {},
   "source": [
    "**ai_message:**\n",
    "\n",
    "The error was due to incorrect column names in the quarterly financials and balance sheet data. I will now adjust the code to use the correct column names and regenerate the financial metrics visualization."
   ]
  },
  {
   "cell_type": "code",
   "execution_count": null,
   "id": "c208045b",
   "metadata": {},
   "outputs": [],
   "source": [
    "# Adjust the code to use the correct column names for financial metrics\n",
    "# Re-inspect the data to ensure correct column names are used\n",
    "\n",
    "# Print the column names to verify\n",
    "print(quarterly_financials.columns)\n",
    "print(quarterly_balance_sheet.columns)"
   ]
  },
  {
   "cell_type": "markdown",
   "id": "4cbbf6e5",
   "metadata": {},
   "source": [
    "**ai_message:**\n",
    "\n",
    "Shall I continue?"
   ]
  },
  {
   "cell_type": "markdown",
   "id": "0e3b725a",
   "metadata": {},
   "source": [
    "**user_message:**\n",
    "\n",
    "No, give me a different 3d visualization. Make it interactive if possible"
   ]
  },
  {
   "cell_type": "markdown",
   "id": "66a8393f",
   "metadata": {},
   "source": [
    "**ai_message:**\n",
    "\n",
    "The previous attempt to visualize NVIDIA's financial metrics failed due to incorrect column names in the data. I will now create a different interactive 3D visualization using the available stock data, focusing on price, volume, and time."
   ]
  },
  {
   "cell_type": "code",
   "execution_count": null,
   "id": "c8e97612",
   "metadata": {},
   "outputs": [],
   "source": [
    "import plotly.express as px\n",
    "\n",
    "# Create a 3D scatter plot for NVIDIA stock data\n",
    "fig = px.scatter_3d(\n",
    "    hist.reset_index(), \n",
    "    x='Date', \n",
    "    y='Close', \n",
    "    z='Volume',\n",
    "    color='Close',\n",
    "    title='NVIDIA Stock 3D Visualization: Price vs Volume over Time',\n",
    "    labels={'Close': 'Stock Price', 'Volume': 'Trading Volume'},\n",
    "    height=800\n",
    ")\n",
    "\n",
    "# Save the plot as HTML\n",
    "fig.write_html('nvidia_3d_scatter.html')"
   ]
  },
  {
   "cell_type": "markdown",
   "id": "26b7bb52",
   "metadata": {},
   "source": [
    "**ai_message:**\n",
    "\n",
    "I created an interactive 3D scatter plot using NVIDIA's stock data, focusing on price, volume, and time, and saved it as 'nvidia_3d_scatter.html'. This visualization allows for exploration of the relationship between these variables over time."
   ]
  },
  {
   "cell_type": "markdown",
   "id": "dd523501",
   "metadata": {},
   "source": [
    "**user_message:**\n",
    "\n",
    "Display it please"
   ]
  },
  {
   "cell_type": "code",
   "execution_count": null,
   "id": "0a75a7fc",
   "metadata": {},
   "outputs": [],
   "source": [
    "from IPython.display import display, HTML\n",
    "\n",
    "# Load and display the HTML file\n",
    "with open('nvidia_3d_scatter.html', 'r') as file:\n",
    "    html_content = file.read()\n",
    "\n",
    "# Render the HTML content\n",
    "get_ipython().run_cell_magic('html', '', html_content)"
   ]
  },
  {
   "cell_type": "markdown",
   "id": "1e627ef9",
   "metadata": {},
   "source": [
    "**ai_message:**\n",
    "\n",
    "I loaded and displayed the interactive 3D scatter plot from the saved HTML file to allow you to explore NVIDIA's stock data visually."
   ]
  }
 ],
 "metadata": {},
 "nbformat": 4,
 "nbformat_minor": 5
}